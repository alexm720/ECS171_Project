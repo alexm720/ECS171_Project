{
 "cells": [
  {
   "cell_type": "markdown",
   "id": "99134bbb",
   "metadata": {},
   "source": [
    "## Pre-processing Data"
   ]
  },
  {
   "cell_type": "code",
   "execution_count": 1,
   "id": "e1ed8035",
   "metadata": {},
   "outputs": [],
   "source": [
    "import pandas as pd\n",
    "import csv\n",
    "import numpy as np\n",
    "from sklearn.neural_network import MLPRegressor\n",
    "from sklearn.preprocessing import MinMaxScaler\n",
    "from sklearn.model_selection import train_test_split\n",
    "from sklearn.metrics import mean_squared_error, accuracy_score\n",
    "\n",
    "def age_model_producer(dataset):\n",
    "    X = dataset.dropna()\n",
    "    y = X[\"Age\"]\n",
    "    x = X.drop([\"Age\"] , axis = 1 )\n",
    "    \n",
    "    \n",
    "    model = MLPRegressor(solver = 'sgd', random_state = 42, activation = 'logistic', learning_rate_init = 0.05, hidden_layer_sizes = (15, 10), max_iter = 1500)\n",
    "    model.fit(x , y)\n",
    "    return model\n",
    "    \n",
    "def handle_missing_numerical_mean(dataset, column_name):\n",
    "    \n",
    "    series = dataset[column_name]\n",
    "    temp_series = series.dropna()\n",
    "    temp_array = np.array(temp_series)\n",
    "    \n",
    "    mean = temp_array.mean()\n",
    "    temp_series = series.fillna(mean)\n",
    "    return (temp_series)\n",
    "\n",
    "def handle_missing_age(dataset, method = \"mean\"):\n",
    "    \n",
    "    if method == \"mean\":\n",
    "        return handle_missing_numerical_mean(dataset, \"Age\")\n",
    "    else:\n",
    "        model = age_model_producer(dataset)\n",
    "        \n",
    "        for i in range(dataset.shape[0]):\n",
    "            if np.isnan(dataset.loc[[i]][\"Age\"]).values[0]:\n",
    "                dataset.loc[[i]] = dataset.loc[[i]].fillna(value = model.predict(dataset.loc[[i]].drop([\"Age\"], axis = 1))[0])\n",
    "                \n",
    "        return dataset[\"Age\"]\n",
    "\n",
    "dataset = pd.read_csv(\"train.csv\")\n",
    "\n",
    "X = dataset.drop(['PassengerId', 'Name', 'Ticket', 'Cabin'], axis = 1)\n",
    "\n",
    "dummies_sex = pd.get_dummies(X[\"Sex\"])\n",
    "X[\"Pclass\"] = X[\"Pclass\"].replace(to_replace = [1, 2, 3], value = [\"1_pclass\", \"2_pclass\", \"3_pclass\" ])\n",
    "dummies_pclass = pd.get_dummies(X[\"Pclass\"])\n",
    "dummies_embarked = pd.get_dummies(X[\"Embarked\"])\n",
    "\n",
    "\n",
    "nl = MinMaxScaler()\n",
    "X[[ \"Fare\", \"SibSp\", \"Parch\"]] = nl.fit_transform(X[[ \"Fare\" , \"SibSp\", \"Parch\"]])\n",
    "\n",
    "\n",
    "x = X[[\"Age\", \"Fare\", \"SibSp\", \"Parch\"]]\n",
    "x = pd.concat([x, dummies_sex, dummies_pclass, dummies_embarked], axis = 1)\n",
    "x[\"Age\"] = handle_missing_age(x, method = \"predict\")\n",
    "#x[\"Age\"] = handle_missing_age(X)\n",
    "x[[\"Age\"]] = nl.fit_transform(x[[ \"Age\"]])\n",
    "\n",
    "\n",
    "y = pd.get_dummies(X[\"Survived\"])"
   ]
  },
  {
   "cell_type": "markdown",
   "id": "e7c308e0",
   "metadata": {},
   "source": [
    "## Buliding model of neural network"
   ]
  },
  {
   "cell_type": "code",
   "execution_count": 2,
   "id": "d36af712",
   "metadata": {
    "scrolled": true
   },
   "outputs": [
    {
     "name": "stdout",
     "output_type": "stream",
     "text": [
      "          Age      Fare  SibSp     Parch  female  male  1_pclass  2_pclass  \\\n",
      "116  0.880623  0.015127  0.000  0.000000       0     1         0         0   \n",
      "519  0.396833  0.015412  0.000  0.000000       0     1         0         0   \n",
      "656  0.341296  0.015412  0.000  0.000000       0     1         0         0   \n",
      "698  0.610455  0.216430  0.125  0.166667       0     1         1         0   \n",
      "561  0.497361  0.015412  0.000  0.000000       0     1         0         0   \n",
      "..        ...       ...    ...       ...     ...   ...       ...       ...   \n",
      "697  0.240552  0.015094  0.000  0.000000       1     0         0         0   \n",
      "229  0.192609  0.049708  0.375  0.166667       1     0         0         0   \n",
      "367  0.192668  0.014110  0.000  0.000000       1     0         0         0   \n",
      "26   0.306187  0.014102  0.000  0.000000       0     1         0         0   \n",
      "278  0.082684  0.056848  0.500  0.166667       0     1         0         0   \n",
      "\n",
      "     3_pclass  C  Q  S  \n",
      "116         1  0  1  0  \n",
      "519         1  0  0  1  \n",
      "656         1  0  0  1  \n",
      "698         0  1  0  0  \n",
      "561         1  0  0  1  \n",
      "..        ... .. .. ..  \n",
      "697         1  0  1  0  \n",
      "229         1  0  0  1  \n",
      "367         1  1  0  0  \n",
      "26          1  1  0  0  \n",
      "278         1  0  1  0  \n",
      "\n",
      "[801 rows x 12 columns]\n"
     ]
    }
   ],
   "source": [
    "from sklearn.neural_network import MLPClassifier\n",
    "\n",
    "data_train, data_test, class_train, class_test = train_test_split(x, y, test_size=0.1)\n",
    "\n",
    "print(data_train)\n",
    "model = MLPClassifier(solver = 'sgd', random_state = 42, activation = 'logistic', learning_rate_init = 0.05, hidden_layer_sizes = (15, 10), max_iter = 1500)"
   ]
  },
  {
   "cell_type": "markdown",
   "id": "a5892fc8",
   "metadata": {},
   "source": [
    "## Training and Testing model"
   ]
  },
  {
   "cell_type": "code",
   "execution_count": 3,
   "id": "db6bad90",
   "metadata": {},
   "outputs": [
    {
     "name": "stdout",
     "output_type": "stream",
     "text": [
      "Accuracy :  0.8\n",
      "Mean Square Error :  0.2\n"
     ]
    }
   ],
   "source": [
    "model.fit(data_train, class_train)\n",
    "predict = model.predict(data_test)\n",
    "\n",
    "print(\"Accuracy : \", accuracy_score(class_test, predict))\n",
    "print(\"Mean Square Error : \", mean_squared_error(class_test, predict))"
   ]
  },
  {
   "cell_type": "markdown",
   "id": "4a0d573f",
   "metadata": {},
   "source": [
    "## Getting average accuracy and error using Cross validate"
   ]
  },
  {
   "cell_type": "code",
   "execution_count": 4,
   "id": "c6699bb2",
   "metadata": {},
   "outputs": [
    {
     "name": "stdout",
     "output_type": "stream",
     "text": [
      "Average Accuracy =  0.7980649188514357\n",
      "Average MSE =  0.20193508114856423\n"
     ]
    }
   ],
   "source": [
    "from sklearn.model_selection import cross_validate\n",
    "\n",
    "CV = cross_validate(model, x, y, cv=10, scoring=['accuracy', 'neg_mean_squared_error'])\n",
    "\n",
    "print('Average Accuracy = ', sum(CV['test_accuracy']) / len(CV['test_accuracy']))\n",
    "print('Average MSE = ', sum(-1 * CV['test_neg_mean_squared_error']) / len(CV['test_neg_mean_squared_error']))"
   ]
  },
  {
   "cell_type": "code",
   "execution_count": null,
   "id": "0b2cd127",
   "metadata": {},
   "outputs": [],
   "source": []
  },
  {
   "cell_type": "code",
   "execution_count": null,
   "id": "4a074450",
   "metadata": {
    "scrolled": true
   },
   "outputs": [],
   "source": []
  }
 ],
 "metadata": {
  "kernelspec": {
   "display_name": "Python 3",
   "language": "python",
   "name": "python3"
  },
  "language_info": {
   "codemirror_mode": {
    "name": "ipython",
    "version": 3
   },
   "file_extension": ".py",
   "mimetype": "text/x-python",
   "name": "python",
   "nbconvert_exporter": "python",
   "pygments_lexer": "ipython3",
   "version": "3.8.1"
  }
 },
 "nbformat": 4,
 "nbformat_minor": 5
}
